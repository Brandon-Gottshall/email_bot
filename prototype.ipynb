{
 "cells": [
  {
   "cell_type": "markdown",
   "metadata": {},
   "source": [
    "# Email Bot Notebook\n",
    "\n",
    "This notebook demonstrates how to:\n",
    "1. Authenticate with Gmail's API.\n",
    "2. Retrieve unread emails.\n",
    "3. Summarize or filter them (optionally).\n",
    "4. Send a daily recap email back to yourself.\n",
    "5. Mark processed emails as read.\n",
    "\n",
    "We'll use the [Google API Python Client](https://github.com/googleapis/google-api-python-client) for Gmail access.\n"
   ]
  },
  {
   "cell_type": "markdown",
   "metadata": {},
   "source": [
    "## 1. Setup and Installation\n",
    "\n",
    "Make sure to install the necessary packages in your environment:"
   ]
  },
  {
   "cell_type": "code",
   "execution_count": null,
   "metadata": {
    "vscode": {
     "languageId": "shellscript"
    }
   },
   "outputs": [],
   "source": [
    "pip install google-api-python-client google-auth-httplib2 google-auth-oauthlib"
   ]
  },
  {
   "cell_type": "markdown",
   "metadata": {},
   "source": [
    "## 2. Imports and Configuration\n",
    "\n",
    "We'll import the libraries we need and set up any global constants such as:\n",
    "- `SCOPES`: Gmail API scopes\n",
    "- `CREDENTIALS_PATH`: Path to our `credentials.json`\n",
    "- `TOKEN_PATH`: Path to store the OAuth tokens (so we don’t have to re-authenticate every time).\n"
   ]
  },
  {
   "cell_type": "code",
   "execution_count": null,
   "metadata": {},
   "outputs": [],
   "source": [
    "import os\n",
    "import base64\n",
    "import datetime\n",
    "\n",
    "from email.mime.text import MIMEText\n",
    "\n",
    "from googleapiclient.discovery import build\n",
    "from googleapiclient.errors import HttpError\n",
    "from google_auth_oauthlib.flow import InstalledAppFlow\n",
    "from google.auth.transport.requests import Request\n",
    "import pickle\n",
    "\n",
    "# If modifying these scopes, delete your existing token file.\n",
    "SCOPES = [\"https://www.googleapis.com/auth/gmail.modify\"]\n",
    "\n",
    "# Paths to your files\n",
    "CREDENTIALS_PATH = \"secrets/credentials.json\"  # Adjust as needed\n",
    "TOKEN_PATH = \"secrets/token.pickle\"  # Where the OAuth tokens will be stored"
   ]
  },
  {
   "cell_type": "markdown",
   "metadata": {},
   "source": [
    "## 3. Authentication\n",
    "\n",
    "We'll do the following:\n",
    "1. Check if we already have a valid `token.pickle`.\n",
    "2. If not, we prompt the user to log in via OAuth.\n",
    "3. We then save the token for future sessions.\n"
   ]
  },
  {
   "cell_type": "code",
   "execution_count": null,
   "metadata": {},
   "outputs": [],
   "source": [
    "def get_gmail_service():\n",
    "    creds = None\n",
    "\n",
    "    # 1. Check if token.pickle exists\n",
    "    if os.path.exists(TOKEN_PATH):\n",
    "        with open(TOKEN_PATH, \"rb\") as token_file:\n",
    "            creds = pickle.load(token_file)\n",
    "\n",
    "    # 2. If no valid creds or they are expired, go through the OAuth flow\n",
    "    if not creds or not creds.valid:\n",
    "        if creds and creds.expired and creds.refresh_token:\n",
    "            creds.refresh(Request())\n",
    "        else:\n",
    "            flow = InstalledAppFlow.from_client_secrets_file(CREDENTIALS_PATH, SCOPES)\n",
    "            creds = flow.run_local_server(port=0)\n",
    "\n",
    "        # 3. Save the credentials\n",
    "        with open(TOKEN_PATH, \"wb\") as token_file:\n",
    "            pickle.dump(creds, token_file)\n",
    "\n",
    "    # 4. Build the Gmail service\n",
    "    service = build(\"gmail\", \"v1\", credentials=creds)\n",
    "    return service\n",
    "\n",
    "\n",
    "# Test it once\n",
    "service = get_gmail_service()\n",
    "print(\"Gmail service created successfully.\")"
   ]
  },
  {
   "cell_type": "markdown",
   "metadata": {},
   "source": [
    "## 4. Retrieving Unread Emails\n",
    "\n",
    "We'll fetch a list of messages labeled `UNREAD`, retrieve their details, and store them for processing.\n"
   ]
  },
  {
   "cell_type": "code",
   "execution_count": null,
   "metadata": {},
   "outputs": [],
   "source": [
    "def get_unread_emails(service, max_results=10):\n",
    "    \"\"\"\n",
    "    Fetch a list of unread email message IDs,\n",
    "    then retrieve their data (subject, snippet, etc.).\n",
    "    \"\"\"\n",
    "    try:\n",
    "        # Search for unread messages\n",
    "        results = (\n",
    "            service.users()\n",
    "            .messages()\n",
    "            .list(userId=\"me\", labelIds=[\"UNREAD\"], maxResults=max_results)\n",
    "            .execute()\n",
    "        )\n",
    "\n",
    "        messages = results.get(\"messages\", [])\n",
    "\n",
    "        emails_data = []\n",
    "        for msg in messages:\n",
    "            # Get the message details\n",
    "            msg_detail = (\n",
    "                service.users().messages().get(userId=\"me\", id=msg[\"id\"]).execute()\n",
    "            )\n",
    "\n",
    "            subject = None\n",
    "            snippet = msg_detail.get(\"snippet\", \"\")\n",
    "\n",
    "            # Parse headers for Subject\n",
    "            headers = msg_detail.get(\"payload\", {}).get(\"headers\", [])\n",
    "            for header in headers:\n",
    "                if header[\"name\"].lower() == \"subject\":\n",
    "                    subject = header[\"value\"]\n",
    "                    break\n",
    "\n",
    "            emails_data.append(\n",
    "                {\"id\": msg[\"id\"], \"subject\": subject, \"snippet\": snippet}\n",
    "            )\n",
    "\n",
    "        return emails_data\n",
    "\n",
    "    except HttpError as error:\n",
    "        print(f\"An error occurred: {error}\")\n",
    "        return []\n",
    "\n",
    "\n",
    "unread_emails = get_unread_emails(service)\n",
    "print(\"Unread Emails:\", unread_emails)"
   ]
  },
  {
   "cell_type": "markdown",
   "metadata": {},
   "source": [
    "## 5. Summarizing or Filtering Emails (Optional)\n",
    "\n",
    "You can summarize emails using an AI API (like OpenAI's GPT-3.5/4) or by simple keyword matching. For now, we'll just do a naive summary or identify important emails based on some condition (e.g., subject keywords).\n"
   ]
  },
  {
   "cell_type": "code",
   "execution_count": null,
   "metadata": {},
   "outputs": [],
   "source": [
    "def summarize_or_filter(emails):\n",
    "    \"\"\"\n",
    "    Placeholder: apply some logic or AI to summarize\n",
    "    or choose which emails are important.\n",
    "    Here, we'll label any subject with 'Invoice' or 'Urgent' as important.\n",
    "    \"\"\"\n",
    "    important = []\n",
    "    unimportant = []\n",
    "\n",
    "    for email in emails:\n",
    "        subject_lower = (email[\"subject\"] or \"\").lower()\n",
    "        if \"invoice\" in subject_lower or \"urgent\" in subject_lower:\n",
    "            important.append(email)\n",
    "        else:\n",
    "            unimportant.append(email)\n",
    "\n",
    "    return important, unimportant\n",
    "\n",
    "\n",
    "important_emails, other_emails = summarize_or_filter(unread_emails)\n",
    "print(\"Important Emails:\", important_emails)\n",
    "print(\"Other Emails:\", other_emails)"
   ]
  },
  {
   "cell_type": "markdown",
   "metadata": {},
   "source": [
    "## 6. Sending a Daily Recap Email\n",
    "\n",
    "We'll compose a summary of important emails and send it back to ourselves.\n"
   ]
  },
  {
   "cell_type": "code",
   "execution_count": null,
   "metadata": {},
   "outputs": [],
   "source": [
    "def create_message(to, subject, body_text):\n",
    "    \"\"\"\n",
    "    Create a message for an email.\n",
    "    \"\"\"\n",
    "    message = MIMEText(body_text)\n",
    "    message[\"to\"] = to\n",
    "    message[\"subject\"] = subject\n",
    "    raw = base64.urlsafe_b64encode(message.as_bytes())\n",
    "    return {\"raw\": raw.decode()}\n",
    "\n",
    "\n",
    "def send_message(service, user_id, message):\n",
    "    \"\"\"\n",
    "    Send an email message via Gmail API.\n",
    "    \"\"\"\n",
    "    try:\n",
    "        sent = service.users().messages().send(userId=user_id, body=message).execute()\n",
    "        print(f\"Message sent: {sent['id']}\")\n",
    "        return sent\n",
    "    except HttpError as error:\n",
    "        print(f\"An error occurred: {error}\")\n",
    "        return None\n",
    "\n",
    "\n",
    "def send_daily_recap(service, important, unimportant):\n",
    "    recap_subject = f\"Daily Recap - {datetime.date.today()}\"\n",
    "\n",
    "    # Build a quick text summary\n",
    "    body_lines = []\n",
    "    if important:\n",
    "        body_lines.append(\"**Important Emails:**\")\n",
    "        for e in important:\n",
    "            body_lines.append(f\"- {e['subject']} (ID: {e['id']})\")\n",
    "        body_lines.append(\"\")\n",
    "    else:\n",
    "        body_lines.append(\"No important emails today.\\n\")\n",
    "\n",
    "    if unimportant:\n",
    "        body_lines.append(\"Other Unread Emails:\")\n",
    "        for e in unimportant:\n",
    "            body_lines.append(f\"- {e['subject']} (ID: {e['id']})\")\n",
    "    else:\n",
    "        body_lines.append(\"No other unread emails.\")\n",
    "\n",
    "    recap_body = \"\\n\".join(body_lines)\n",
    "\n",
    "    # Create and send\n",
    "    msg = create_message(\"me\", recap_subject, recap_body)\n",
    "    send_message(service, \"me\", msg)\n",
    "\n",
    "\n",
    "# Example usage\n",
    "send_daily_recap(service, important_emails, other_emails)"
   ]
  },
  {
   "cell_type": "markdown",
   "metadata": {},
   "source": [
    "## 7. Marking Emails as Read\n",
    "\n",
    "After processing, we can label the emails with `READ` so they won’t appear as unread in your inbox. This step is especially useful if you don’t plan to keep them for later review in unread form.\n"
   ]
  },
  {
   "cell_type": "code",
   "execution_count": null,
   "metadata": {},
   "outputs": [],
   "source": [
    "def mark_emails_as_read(service, emails):\n",
    "    \"\"\"\n",
    "    Mark emails as read in Gmail.\n",
    "    \"\"\"\n",
    "    for email in emails:\n",
    "        try:\n",
    "            service.users().messages().modify(\n",
    "                userId=\"me\", id=email[\"id\"], body={\"removeLabelIds\": [\"UNREAD\"]}\n",
    "            ).execute()\n",
    "        except HttpError as error:\n",
    "            print(f\"Error marking email as read: {error}\")\n",
    "            continue\n",
    "\n",
    "\n",
    "# Mark everything as read (important and other) in this example\n",
    "mark_emails_as_read(service, important_emails + other_emails)\n",
    "print(\"All processed emails have been marked as read.\")"
   ]
  },
  {
   "cell_type": "markdown",
   "metadata": {},
   "source": [
    "# Conclusion\n",
    "\n",
    "- We authenticated with Gmail's API.\n",
    "- Retrieved unread messages.\n",
    "- Applied a (basic) filter for important/unimportant emails.\n",
    "- Sent ourselves a daily recap.\n",
    "- Marked the emails as read.\n",
    "\n",
    "**Next Steps**:\n",
    "- Improve the filtering or summarizing with AI (OpenAI GPT, local LLM, etc.).\n",
    "- Handle attachments or other advanced email features.\n",
    "- Schedule this script (via `launchd` or `cron`) to run automatically each day.\n"
   ]
  }
 ],
 "metadata": {
  "kernelspec": {
   "display_name": "Python 3",
   "language": "python",
   "name": "python3"
  },
  "language_info": {
   "codemirror_mode": {
    "name": "ipython",
    "version": 3
   },
   "file_extension": ".py",
   "mimetype": "text/x-python",
   "name": "python",
   "nbconvert_exporter": "python",
   "pygments_lexer": "ipython3",
   "version": "3.11.11"
  }
 },
 "nbformat": 4,
 "nbformat_minor": 2
}
